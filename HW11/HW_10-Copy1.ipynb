{
 "cells": [
  {
   "cell_type": "code",
   "execution_count": 1,
   "metadata": {
    "collapsed": true
   },
   "outputs": [],
   "source": [
    "import numpy as np\n",
    "from scipy.optimize import brentq\n",
    "from scipy.optimize import bisect\n",
    "from scipy.interpolate import Rbf\n",
    "import matplotlib.pyplot as plt\n",
    "global th\n",
    "th=2.5\n",
    "\n",
    "global d\n",
    "d=0.7\n",
    "\n",
    "global tol\n",
    "tol=1.0*(10**-4)"
   ]
  },
  {
   "cell_type": "code",
   "execution_count": 2,
   "metadata": {
    "collapsed": true
   },
   "outputs": [],
   "source": [
    "def system(n_1t_init, n_2t_init, h):\n",
    "    global th\n",
    "    global d\n",
    "    h_f=h\n",
    "    n_1t=n_1t_init\n",
    "    n_2t=n_2t_init\n",
    "    n_1t_new=0\n",
    "    n_2t_new=0\n",
    "    if n_1t<=1/2 and n_2t<= 1/2:\n",
    "        n_1t_new= d * (th/2 + (1-th)*n_1t)\n",
    "        n_2t_new= d * (th/2 + (1-th)*n_2t)\n",
    "    \n",
    "        \n",
    "    elif n_1t>=(h_f(n_2t)) and n_2t>=(h_f(n_1t)):\n",
    "        n_1t_new= d *n_1t\n",
    "        n_2t_new= d* n_2t\n",
    "        \n",
    "            \n",
    "        \n",
    "    elif n_1t>=1/2 and n_2t<=(h_f(n_1)):\n",
    "        n_1t_new=d*n_1t\n",
    "        n_2t_new=d*(th*(h_f(n_1t)) + (1-th)* n_2t)\n",
    "        \n",
    "    elif n_1t<=(h_f(n_2t)) and n_2t>=1/2:\n",
    "        n_1t_new= d*(th*(h_f(n_2t)) + (1-th)* n_1t)\n",
    "        n_2t_new=d*n_2t\n",
    "            \n",
    "    return n_1t_new, n_2t_new\n",
    "    "
   ]
  },
  {
   "cell_type": "code",
   "execution_count": 3,
   "metadata": {
    "collapsed": true
   },
   "outputs": [],
   "source": [
    "def h(n,r):\n",
    "    def h_implicit(h):\n",
    "        return ( h + n * (1/r))+(h+r*n)-2*(h+r*n)* ( h + n * (1/r)) \n",
    "    return brentq(h_implicit, 0.0, 1.0)\n",
    "              "
   ]
  },
  {
   "cell_type": "code",
   "execution_count": 4,
   "metadata": {
    "collapsed": false
   },
   "outputs": [
    {
     "name": "stderr",
     "output_type": "stream",
     "text": [
      "/home/tim/anaconda3/lib/python3.5/site-packages/ipykernel/__main__.py:4: DeprecationWarning: using a non-integer number instead of an integer will result in an error in the future\n"
     ]
    },
    {
     "data": {
      "image/png": "[encoded data removed]",
      "text/plain": [
       "<matplotlib.figure.Figure at 0x7fb5d2028b00>"
      ]
     },
     "metadata": {},
     "output_type": "display_data"
    },
    {
     "data": {
      "text/plain": [
       "<function __main__.h_inter>"
      ]
     },
     "execution_count": 4,
     "metadata": {},
     "output_type": "execute_result"
    }
   ],
   "source": [
    "%matplotlib inline\n",
    "def h_inter(r):\n",
    "    x=np.linspace(1.0*(10**-100),1.0,100)\n",
    "    y = np.empty([100,1.0])\n",
    "    n_grid = np.linspace(1.0*(10**-100),1,100)\n",
    "    for n in range(0,100):\n",
    "        y[n] = h(n_grid[n],r)\n",
    "    \n",
    "   \n",
    "    \n",
    "    \n",
    "    \n",
    "    xi = np.linspace(0.0, 1.0, 1000)\n",
    "    rbf=Rbf(x,y)\n",
    "    fi=rbf(xi)\n",
    "    \n",
    "    \n",
    "    plt.plot(xi, fi, 'g')\n",
    "    plt.title('Interpolation using RBF - multiquadrics')\n",
    "    plt.show()\n",
    "    return h_inter\n",
    "h_inter(0.2)"
   ]
  },
  {
   "cell_type": "code",
   "execution_count": 5,
   "metadata": {
    "collapsed": true
   },
   "outputs": [],
   "source": [
    "def norm(n_1t, n_2t,n_1t_new_2, n_2t_new_2):\n",
    "    n_1=np.array((n_1t, n_2t))\n",
    "    n_2=np.array((n_1t_new_2, n_2t_new_2))\n",
    "    return (np.amax(np.abs(n_1-n_2)))"
   ]
  },
  {
   "cell_type": "code",
   "execution_count": 6,
   "metadata": {
    "collapsed": true
   },
   "outputs": [],
   "source": [
    "def synchronize_2(n_1t_init, n_2t_init, r):\n",
    "    h=h_inter(r)\n",
    "    n_1t=n_1t_init\n",
    "    n_2t=n_2t_init\n",
    "    n_1t_new=0\n",
    "    n_2t_new=0\n",
    "    n_1t_new_2=0\n",
    "    n_2t_new_2=0\n",
    "    max_iter=200\n",
    "    time=0\n",
    "    \n",
    "    for i in range(0,max_iter):\n",
    "        \n",
    "        if i>0 and norm(n_1t, n_2t, n_1t_new_2, n_2t_new_2)<=tol:\n",
    "           \n",
    "            break\n",
    "        elif i>=0 and norm(n_1t, n_2t, n_1t_new_2, n_2t_new_2)>tol:\n",
    "            n_1t=n_1t_new\n",
    "            n_2t=n_2t_new\n",
    "            n_1t_new, n_2t_new=system(n_1t, n_2t,h)   \n",
    "            n_1t_new_2, n_2t_new_2=system(n_1t_new, n_2t_new,h)\n",
    "            time+=1\n",
    "        elif i==max_iter-1:\n",
    "            time=0\n",
    "        \n",
    "        \n",
    "          \n",
    "    return i"
   ]
  },
  {
   "cell_type": "code",
   "execution_count": 7,
   "metadata": {
    "collapsed": false
   },
   "outputs": [
    {
     "name": "stderr",
     "output_type": "stream",
     "text": [
      "/home/tim/anaconda3/lib/python3.5/site-packages/ipykernel/__main__.py:4: DeprecationWarning: using a non-integer number instead of an integer will result in an error in the future\n"
     ]
    },
    {
     "data": {
      "image/png": "[encoded data removed]",
      "text/plain": [
       "<matplotlib.figure.Figure at 0x7fb5d2028a58>"
      ]
     },
     "metadata": {},
     "output_type": "display_data"
    },
    {
     "data": {
      "image/png": "[encoded data removed]",
      "text/plain": [
       "<matplotlib.figure.Figure at 0x7fb5ca1559b0>"
      ]
     },
     "metadata": {},
     "output_type": "display_data"
    },
    {
     "ename": "TypeError",
     "evalue": "unorderable types: float() >= function()",
     "output_type": "error",
     "traceback": [
      "\u001b[1;31m---------------------------------------------------------------------------\u001b[0m",
      "\u001b[1;31mTypeError\u001b[0m                                 Traceback (most recent call last)",
      "\u001b[1;32m<ipython-input-7-5c43ad172d2a>\u001b[0m in \u001b[0;36m<module>\u001b[1;34m()\u001b[0m\n\u001b[1;32m----> 1\u001b[1;33m \u001b[0msynchronize_2\u001b[0m\u001b[1;33m(\u001b[0m\u001b[1;36m0.2\u001b[0m\u001b[1;33m,\u001b[0m\u001b[1;36m0.5\u001b[0m\u001b[1;33m,\u001b[0m\u001b[1;36m0.8\u001b[0m\u001b[1;33m)\u001b[0m\u001b[1;33m\u001b[0m\u001b[0m\n\u001b[0m",
      "\u001b[1;32m<ipython-input-6-092b0dcb16ca>\u001b[0m in \u001b[0;36msynchronize_2\u001b[1;34m(n_1t_init, n_2t_init, r)\u001b[0m\n\u001b[0;32m     19\u001b[0m             \u001b[0mn_2t\u001b[0m\u001b[1;33m=\u001b[0m\u001b[0mn_2t_new\u001b[0m\u001b[1;33m\u001b[0m\u001b[0m\n\u001b[0;32m     20\u001b[0m             \u001b[0mn_1t_new\u001b[0m\u001b[1;33m,\u001b[0m \u001b[0mn_2t_new\u001b[0m\u001b[1;33m=\u001b[0m\u001b[0msystem\u001b[0m\u001b[1;33m(\u001b[0m\u001b[0mn_1t\u001b[0m\u001b[1;33m,\u001b[0m \u001b[0mn_2t\u001b[0m\u001b[1;33m,\u001b[0m\u001b[0mh\u001b[0m\u001b[1;33m)\u001b[0m\u001b[1;33m\u001b[0m\u001b[0m\n\u001b[1;32m---> 21\u001b[1;33m             \u001b[0mn_1t_new_2\u001b[0m\u001b[1;33m,\u001b[0m \u001b[0mn_2t_new_2\u001b[0m\u001b[1;33m=\u001b[0m\u001b[0msystem\u001b[0m\u001b[1;33m(\u001b[0m\u001b[0mn_1t_new\u001b[0m\u001b[1;33m,\u001b[0m \u001b[0mn_2t_new\u001b[0m\u001b[1;33m,\u001b[0m\u001b[0mh\u001b[0m\u001b[1;33m)\u001b[0m\u001b[1;33m\u001b[0m\u001b[0m\n\u001b[0m\u001b[0;32m     22\u001b[0m             \u001b[0mtime\u001b[0m\u001b[1;33m+=\u001b[0m\u001b[1;36m1\u001b[0m\u001b[1;33m\u001b[0m\u001b[0m\n\u001b[0;32m     23\u001b[0m         \u001b[1;32melif\u001b[0m \u001b[0mi\u001b[0m\u001b[1;33m==\u001b[0m\u001b[0mmax_iter\u001b[0m\u001b[1;33m-\u001b[0m\u001b[1;36m1\u001b[0m\u001b[1;33m:\u001b[0m\u001b[1;33m\u001b[0m\u001b[0m\n",
      "\u001b[1;32m<ipython-input-2-ef2e10242732>\u001b[0m in \u001b[0;36msystem\u001b[1;34m(n_1t_init, n_2t_init, h)\u001b[0m\n\u001b[0;32m     12\u001b[0m \u001b[1;33m\u001b[0m\u001b[0m\n\u001b[0;32m     13\u001b[0m \u001b[1;33m\u001b[0m\u001b[0m\n\u001b[1;32m---> 14\u001b[1;33m     \u001b[1;32melif\u001b[0m \u001b[0mn_1t\u001b[0m\u001b[1;33m>=\u001b[0m\u001b[1;33m(\u001b[0m\u001b[0mh_f\u001b[0m\u001b[1;33m(\u001b[0m\u001b[0mn_2t\u001b[0m\u001b[1;33m)\u001b[0m\u001b[1;33m)\u001b[0m \u001b[1;32mand\u001b[0m \u001b[0mn_2t\u001b[0m\u001b[1;33m>=\u001b[0m\u001b[1;33m(\u001b[0m\u001b[0mh_f\u001b[0m\u001b[1;33m(\u001b[0m\u001b[0mn_1t\u001b[0m\u001b[1;33m)\u001b[0m\u001b[1;33m)\u001b[0m\u001b[1;33m:\u001b[0m\u001b[1;33m\u001b[0m\u001b[0m\n\u001b[0m\u001b[0;32m     15\u001b[0m         \u001b[0mn_1t_new\u001b[0m\u001b[1;33m=\u001b[0m \u001b[0md\u001b[0m \u001b[1;33m*\u001b[0m\u001b[0mn_1t\u001b[0m\u001b[1;33m\u001b[0m\u001b[0m\n\u001b[0;32m     16\u001b[0m         \u001b[0mn_2t_new\u001b[0m\u001b[1;33m=\u001b[0m \u001b[0md\u001b[0m\u001b[1;33m*\u001b[0m \u001b[0mn_2t\u001b[0m\u001b[1;33m\u001b[0m\u001b[0m\n",
      "\u001b[1;31mTypeError\u001b[0m: unorderable types: float() >= function()"
     ]
    }
   ],
   "source": [
    "synchronize_2(0.2,0.5,0.8)"
   ]
  },
  {
   "cell_type": "code",
   "execution_count": 8,
   "metadata": {
    "collapsed": true
   },
   "outputs": [],
   "source": [
    "def t():\n",
    "    \n",
    "    x=0.2\n",
    "    y=0.5\n",
    "    x_2=0\n",
    "    y_1=0\n",
    "    x_3=0\n",
    "    y_3=0\n",
    "    for i in range(0,15):\n",
    "        n_1t=n_1t_new\n",
    "        n_2t=n_2t_new\n",
    "        n_1t_new, n_2t_new=system(n_1t, n_2t,r)   \n",
    "        n_1t_new_2, n_2t_new_2=system(n_1t_new, n_2t_new,r)\n",
    "    return x,y"
   ]
  },
  {
   "cell_type": "code",
   "execution_count": null,
   "metadata": {
    "collapsed": true
   },
   "outputs": [],
   "source": [
    "x():\n",
    "    return h_inter(.2)"
   ]
  }
 ],
 "metadata": {
  "kernelspec": {
   "display_name": "Python 3",
   "language": "python",
   "name": "python3"
  },
  "language_info": {
   "codemirror_mode": {
    "name": "ipython",
    "version": 3
   },
   "file_extension": ".py",
   "mimetype": "text/x-python",
   "name": "python",
   "nbconvert_exporter": "python",
   "pygments_lexer": "ipython3",
   "version": "3.5.1"
  }
 },
 "nbformat": 4,
 "nbformat_minor": 0
}
