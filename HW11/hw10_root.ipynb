{
 "cells": [
  {
   "cell_type": "code",
   "execution_count": 25,
   "metadata": {
    "collapsed": true
   },
   "outputs": [],
   "source": [
    "import numpy as np\n",
    "from scipy.optimize import brentq\n",
    "from scipy.optimize import bisect\n",
    "from scipy.interpolate import Rbf\n",
    "import matplotlib.pyplot as plt"
   ]
  },
  {
   "cell_type": "code",
   "execution_count": 26,
   "metadata": {
    "collapsed": true
   },
   "outputs": [],
   "source": [
    "th=2.5\n",
    "d=0.7\n",
    "tol=1.0*(10**-4)"
   ]
  },
  {
   "cell_type": "code",
   "execution_count": 27,
   "metadata": {
    "collapsed": false
   },
   "outputs": [
    {
     "data": {
      "text/plain": [
       "0.0001"
      ]
     },
     "execution_count": 27,
     "metadata": {},
     "output_type": "execute_result"
    }
   ],
   "source": [
    "tol\n"
   ]
  },
  {
   "cell_type": "code",
   "execution_count": 28,
   "metadata": {
    "collapsed": false
   },
   "outputs": [],
   "source": [
    "def h(n,r):\n",
    "    def h_implicit(h):\n",
    "        return ( h + n * (1/r))+(h+r*n)-2*(h+r*n)* ( h + n * (1/r)) \n",
    "    return brentq(h_implicit,0.0 ,1.0)\n"
   ]
  },
  {
   "cell_type": "code",
   "execution_count": 29,
   "metadata": {
    "collapsed": false
   },
   "outputs": [
    {
     "data": {
      "text/plain": [
       "0.8895030659502152"
      ]
     },
     "execution_count": 29,
     "metadata": {},
     "output_type": "execute_result"
    }
   ],
   "source": [
    "h(0.1, 0.6)"
   ]
  },
  {
   "cell_type": "code",
   "execution_count": 30,
   "metadata": {
    "collapsed": false
   },
   "outputs": [],
   "source": [
    "def system(n_1t_init, n_2t_init,r):\n",
    "   \n",
    "    n_1t=n_1t_init\n",
    "    \n",
    "    n_2t=n_2t_init\n",
    "    \n",
    "    if n_1t <=1/2 and n_2t <= 1/2:\n",
    "        n_1t_new= d * (th/2 + (1-th)*n_1t)\n",
    "        n_2t_new= d * (th/2 + (1-th)*n_2t)\n",
    "    \n",
    "        \n",
    "    elif n_1t>=h(n_2t,r) and n_2t>=h(n_1t,r):\n",
    "        n_1t_new = d *n_1t\n",
    "        n_2t_new = d* n_2t\n",
    "            \n",
    "        \n",
    "    elif n_1t >=1/2 and n_2t <=h(n_1t,r):\n",
    "        n_1t_new=d*n_1t\n",
    "        n_2t_new=d*(th*h(n_1t,r) + (1-th)* n_2t)\n",
    "        \n",
    "    elif n_1t<=h(n_2t,r) and n_2t>=1/2:\n",
    "        n_1t_new= d*(th*h(n_2t,r) + (1-th)* n_1t)\n",
    "        n_2t_new=d*n_2t\n",
    "            \n",
    "    return n_1t_new, n_2t_new"
   ]
  },
  {
   "cell_type": "code",
   "execution_count": 31,
   "metadata": {
    "collapsed": false
   },
   "outputs": [
    {
     "data": {
      "text/plain": [
       "(0.3745, 0.36566829219365976)"
      ]
     },
     "execution_count": 31,
     "metadata": {},
     "output_type": "execute_result"
    }
   ],
   "source": [
    "system(0.535,0.434,0.6)"
   ]
  },
  {
   "cell_type": "code",
   "execution_count": 19,
   "metadata": {
    "collapsed": false
   },
   "outputs": [],
   "source": [
    "def test():\n",
    "    \n",
    "    r=0.2\n",
    "    n1=0.2\n",
    "    n2=0.6\n",
    "    \n",
    "    for i in range(0,3):\n",
    "        n1, n2=system(n1, n2,r)\n",
    "        print(n1, n2)\n",
    "        \n",
    "    return n1, n2\n",
    "\n",
    "    "
   ]
  },
  {
   "cell_type": "code",
   "execution_count": 20,
   "metadata": {
    "collapsed": false
   },
   "outputs": [
    {
     "name": "stdout",
     "output_type": "stream",
     "text": [
      "0.2875878617208053 0.42\n",
      "0.5730327451931544 0.434\n",
      "0.4011229216352081 -0.31068770242865645\n"
     ]
    }
   ],
   "source": [
    "x,y=test()"
   ]
  },
  {
   "cell_type": "code",
   "execution_count": 75,
   "metadata": {
    "collapsed": false
   },
   "outputs": [
    {
     "data": {
      "text/plain": [
       "(0.5418760923388553, 0.41001598007086193)"
      ]
     },
     "execution_count": 75,
     "metadata": {},
     "output_type": "execute_result"
    }
   ],
   "source": [
    "system(x,y, 0.2)\n",
    "h(x,0.2), h(y, 0.2)"
   ]
  },
  {
   "cell_type": "code",
   "execution_count": 78,
   "metadata": {
    "collapsed": false
   },
   "outputs": [
    {
     "data": {
      "text/plain": [
       "(0.4538209322830315, 0.2807860451446456, 0.29634889740703985)"
      ]
     },
     "execution_count": 78,
     "metadata": {},
     "output_type": "execute_result"
    }
   ],
   "source": [
    "\n",
    "a,b=h(x,0.2), h(y, 0.2)\n",
    "d * (th/2 + (1-th)*x), d *x, d*(th*b + (1-th)* x) \n"
   ]
  },
  {
   "cell_type": "code",
   "execution_count": 24,
   "metadata": {
    "collapsed": false
   },
   "outputs": [
    {
     "data": {
      "text/plain": [
       "[0.9745756686056563,\n",
       " 0.7665755320475025,\n",
       " 0.6486181414489564,\n",
       " 0.5748582263008155,\n",
       " 0.5220104584543397,\n",
       " 0.4799484992321989,\n",
       " 0.4440046610668714,\n",
       " 0.41181708688623386,\n",
       " 0.3820849055023622,\n",
       " 0.3540395383930632]"
      ]
     },
     "execution_count": 24,
     "metadata": {},
     "output_type": "execute_result"
    }
   ],
   "source": [
    "[h(n,0.2) for n in np.linspace(.01,.99,10)]"
   ]
  },
  {
   "cell_type": "code",
   "execution_count": null,
   "metadata": {
    "collapsed": true
   },
   "outputs": [],
   "source": []
  }
 ],
 "metadata": {
  "kernelspec": {
   "display_name": "Python 3",
   "language": "python",
   "name": "python3"
  },
  "language_info": {
   "codemirror_mode": {
    "name": "ipython",
    "version": 3
   },
   "file_extension": ".py",
   "mimetype": "text/x-python",
   "name": "python",
   "nbconvert_exporter": "python",
   "pygments_lexer": "ipython3",
   "version": "3.5.1"
  }
 },
 "nbformat": 4,
 "nbformat_minor": 0
}
