{
 "cells": [
  {
   "cell_type": "markdown",
   "metadata": {},
   "source": [
    "## Ildebrando Magnani\n",
    "\n",
    "Homework 11:\n",
    "\n",
    "(Draft)"
   ]
  },
  {
   "cell_type": "code",
   "execution_count": 87,
   "metadata": {
    "collapsed": true
   },
   "outputs": [],
   "source": [
    "import numpy as np\n",
    "from numpy import interp\n",
    "from scipy.optimize import fminbound\n",
    "from quantecon.compute_fp import compute_fixed_point"
   ]
  },
  {
   "cell_type": "code",
   "execution_count": 88,
   "metadata": {
    "collapsed": false
   },
   "outputs": [],
   "source": [
    "a = 1\n",
    "b = 2\n",
    "c = 20\n",
    "d = 1\n",
    "theta = 0.5\n",
    "gamma = 0.9\n",
    "alpha = 0.5\n",
    "beta = 0.99\n",
    "grid_max = 8\n",
    "grid_size = 120\n",
    "grid = np.linspace(1e-6, grid_max, grid_size)\n",
    "shocks = np.exp(np.random.normal(-1, 0.2, 300))"
   ]
  },
  {
   "cell_type": "code",
   "execution_count": 90,
   "metadata": {
    "collapsed": true
   },
   "outputs": [],
   "source": [
    "def U(c):\n",
    "    return 1 - np.exp(-theta * c**gamma)"
   ]
  },
  {
   "cell_type": "code",
   "execution_count": 91,
   "metadata": {
    "collapsed": false
   },
   "outputs": [],
   "source": [
    "def f(k, eps_noise):\n",
    "    return (k**alpha * (a + (b - a)/(1 + np.exp(-c * (k - d))))) * eps_noise"
   ]
  },
  {
   "cell_type": "code",
   "execution_count": 92,
   "metadata": {
    "collapsed": false
   },
   "outputs": [],
   "source": [
    "def max_operator(g, lower_b, upper_b):\n",
    "    return fminbound(lambda x: -g(x), lower_b, upper_b)"
   ]
  },
  {
   "cell_type": "code",
   "execution_count": 93,
   "metadata": {
    "collapsed": true
   },
   "outputs": [],
   "source": [
    "def w(grid):\n",
    "    return np.sqrt(grid)"
   ]
  },
  {
   "cell_type": "code",
   "execution_count": 94,
   "metadata": {
    "collapsed": false
   },
   "outputs": [],
   "source": [
    "w_fn = lambda z: np.interp(z, grid, w)"
   ]
  },
  {
   "cell_type": "code",
   "execution_count": 95,
   "metadata": {
    "collapsed": true
   },
   "outputs": [],
   "source": [
    "def sigma(y):\n",
    "    return y"
   ]
  },
  {
   "cell_type": "code",
   "execution_count": null,
   "metadata": {
    "collapsed": true
   },
   "outputs": [],
   "source": [
    "def T_sigma(sigma, w_fn):\n",
    "    T_list = []\n",
    "    for y in grid:\n",
    "        Tw_fn_y = lambda y: U(sigma(y)) + beta * (np.mean(w_fn(f(y - sigma(y), shocks))))\n",
    "        T_list.append(Tw_fn_y)\n",
    "    interpolator = lambda x: np.interp(x, grid, T_list)\n",
    "    return interpolator"
   ]
  },
  {
   "cell_type": "code",
   "execution_count": null,
   "metadata": {
    "collapsed": true
   },
   "outputs": [],
   "source": [
    "initial_w = np.sqrt(grid)\n",
    "\n",
    "v_sigma = compute_fixed_point(T_sigma, initial_w, error_tol=0.001, maxiter=200, sigma, w_fn)"
   ]
  },
  {
   "cell_type": "code",
   "execution_count": null,
   "metadata": {
    "collapsed": true
   },
   "outputs": [],
   "source": []
  }
 ],
 "metadata": {
  "kernelspec": {
   "display_name": "Python 3",
   "language": "python",
   "name": "python3"
  },
  "language_info": {
   "codemirror_mode": {
    "name": "ipython",
    "version": 3
   },
   "file_extension": ".py",
   "mimetype": "text/x-python",
   "name": "python",
   "nbconvert_exporter": "python",
   "pygments_lexer": "ipython3",
   "version": "3.5.1"
  }
 },
 "nbformat": 4,
 "nbformat_minor": 0
}
